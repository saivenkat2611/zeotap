{
 "cells": [
  {
   "cell_type": "code",
   "execution_count": 1,
   "id": "f0800dd4-c806-4066-803d-44ebbcb8164f",
   "metadata": {},
   "outputs": [],
   "source": [
    "import pandas as pd\n",
    "import numpy as np\n",
    "from sklearn.preprocessing import StandardScaler\n",
    "from sklearn.metrics.pairwise import cosine_similarity\n",
    "import warnings\n",
    "warnings.filterwarnings('ignore')"
   ]
  },
  {
   "cell_type": "code",
   "execution_count": 2,
   "id": "d5c76ec0-e90d-4c8a-89e3-a110c5f020c9",
   "metadata": {},
   "outputs": [],
   "source": [
    "def load_and_prepare_data():\n",
    "    customers_df = pd.read_csv('Downloads/Customers.csv')\n",
    "    products_df = pd.read_csv('Downloads/Products.csv')\n",
    "    transactions_df = pd.read_csv('Downloads/Transactions.csv')\n",
    "    \n",
    "    customers_df['SignupDate'] = pd.to_datetime(customers_df['SignupDate'])\n",
    "    transactions_df['TransactionDate'] = pd.to_datetime(transactions_df['TransactionDate'])\n",
    "    \n",
    "    return customers_df, products_df, transactions_df"
   ]
  },
  {
   "cell_type": "code",
   "execution_count": 3,
   "id": "aa364f63-6cb5-4e82-bae0-eb2eb58869cd",
   "metadata": {},
   "outputs": [],
   "source": [
    "def create_customer_features(customers_df, transactions_df, products_df):\n",
    "    # Customer transaction features\n",
    "    customer_stats = transactions_df.groupby('CustomerID').agg({\n",
    "        'TransactionID': 'count',  # Number of transactions\n",
    "        'TotalValue': ['sum', 'mean', 'std'],  # Transaction value metrics\n",
    "        'Quantity': ['sum', 'mean']  # Purchase quantity metrics\n",
    "    }).fillna(0)\n",
    "    \n",
    "    customer_stats.columns = ['transaction_count', 'total_spend', 'avg_transaction', \n",
    "                            'std_transaction', 'total_items', 'avg_items']\n",
    "    \n",
    "    latest_date = customers_df['SignupDate'].max()\n",
    "    customers_df['days_since_signup'] = (latest_date - customers_df['SignupDate']).dt.days\n",
    "    \n",
    "    region_dummies = pd.get_dummies(customers_df['Region'], prefix='region')\n",
    "    \n",
    "    features_df = pd.concat([\n",
    "        customer_stats,\n",
    "        customers_df.set_index('CustomerID')[['days_since_signup']],\n",
    "        region_dummies\n",
    "    ], axis=1).fillna(0)\n",
    "    \n",
    "    return features_df"
   ]
  },
  {
   "cell_type": "code",
   "execution_count": 4,
   "id": "0697946b-7f5a-44ee-b0d2-5e249960889b",
   "metadata": {},
   "outputs": [],
   "source": [
    "def calculate_similarity_scores(features_df):\n",
    "    scaler = StandardScaler()\n",
    "    features_scaled = scaler.fit_transform(features_df)\n",
    "    \n",
    "    similarity_matrix = cosine_similarity(features_scaled)\n",
    "    \n",
    "    return pd.DataFrame(\n",
    "        similarity_matrix, \n",
    "        index=features_df.index, \n",
    "        columns=features_df.index\n",
    "    )"
   ]
  },
  {
   "cell_type": "code",
   "execution_count": 5,
   "id": "8eae0eb1-0f07-42df-a561-55b10830d2c7",
   "metadata": {},
   "outputs": [],
   "source": [
    "def get_top_lookalikes(customer_id, similarity_df, n=3):\n",
    "    customer_similarities = similarity_df[customer_id].sort_values(ascending=False)\n",
    "    \n",
    "    customer_similarities = customer_similarities[customer_similarities.index != customer_id]\n",
    "    top_similar = customer_similarities.head(n)\n",
    "    return top_similar"
   ]
  },
  {
   "cell_type": "code",
   "execution_count": 6,
   "id": "fcf07a47-6ce2-4ab1-81bf-a408f6ec791e",
   "metadata": {},
   "outputs": [],
   "source": [
    "def create_lookalike_recommendations(start_id=1, end_id=20):\n",
    "    customers_df, products_df, transactions_df = load_and_prepare_data()\n",
    "    features_df = create_customer_features(customers_df, transactions_df, products_df)\n",
    "    similarity_df = calculate_similarity_scores(features_df)\n",
    "    \n",
    "    recommendations = {}\n",
    "    for i in range(start_id, end_id + 1):\n",
    "        customer_id = f'C{i:04d}'\n",
    "        if customer_id in similarity_df.index:\n",
    "            top_similar = get_top_lookalikes(customer_id, similarity_df)\n",
    "            recommendations[customer_id] = [\n",
    "                {\n",
    "                    'similar_customer': similar_id,\n",
    "                    'similarity_score': round(score, 4)\n",
    "                }\n",
    "                for similar_id, score in top_similar.items()\n",
    "            ]\n",
    "    \n",
    "    return recommendations"
   ]
  },
  {
   "cell_type": "code",
   "execution_count": 7,
   "id": "40ba9c26-ea42-405a-84e7-f9b0c3dc1fb1",
   "metadata": {},
   "outputs": [],
   "source": [
    "def save_recommendations_to_csv(recommendations):\n",
    "    customer_ids = []\n",
    "    similar_customers = []\n",
    "    similarity_scores = []\n",
    "    \n",
    "    for customer_id, similars in recommendations.items():\n",
    "        for rec in similars:\n",
    "            customer_ids.append(customer_id)\n",
    "            similar_customers.append(rec['similar_customer'])\n",
    "            similarity_scores.append(rec['similarity_score'])\n",
    "    \n",
    "    results_df = pd.DataFrame({\n",
    "        'CustomerID': customer_ids,\n",
    "        'SimilarCustomerID': similar_customers,\n",
    "        'SimilarityScore': similarity_scores\n",
    "    })\n",
    "    results_df.to_csv('Lookalike.csv', index=False)\n",
    "    return results_df"
   ]
  },
  {
   "cell_type": "code",
   "execution_count": 8,
   "id": "e6b6a01a-de11-4399-9cd8-2a2c3a969855",
   "metadata": {},
   "outputs": [
    {
     "name": "stdout",
     "output_type": "stream",
     "text": [
      "\n",
      "Sample Recommendations:\n",
      "   CustomerID SimilarCustomerID  SimilarityScore\n",
      "0       C0001             C0106           0.9901\n",
      "1       C0001             C0153           0.9838\n",
      "2       C0001             C0011           0.9805\n",
      "3       C0002             C0199           0.9773\n",
      "4       C0002             C0025           0.9496\n",
      "5       C0002             C0166           0.9480\n",
      "6       C0003             C0142           0.9847\n",
      "7       C0003             C0052           0.9701\n",
      "8       C0003             C0190           0.9665\n",
      "9       C0004             C0145           0.9897\n",
      "10      C0004             C0102           0.9872\n",
      "11      C0004             C0175           0.9835\n",
      "12      C0005             C0131           0.9894\n",
      "13      C0005             C0007           0.9819\n",
      "14      C0005             C0132           0.9684\n"
     ]
    }
   ],
   "source": [
    "recommendations = create_lookalike_recommendations(1, 20)\n",
    "results_df = save_recommendations_to_csv(recommendations)\n",
    "\n",
    "print(\"\\nSample Recommendations:\")\n",
    "print(results_df.head(15))"
   ]
  },
  {
   "cell_type": "code",
   "execution_count": null,
   "id": "308a1559-6d64-407c-9933-2abfe00ef7af",
   "metadata": {},
   "outputs": [],
   "source": []
  }
 ],
 "metadata": {
  "kernelspec": {
   "display_name": "Python 3 (ipykernel)",
   "language": "python",
   "name": "python3"
  },
  "language_info": {
   "codemirror_mode": {
    "name": "ipython",
    "version": 3
   },
   "file_extension": ".py",
   "mimetype": "text/x-python",
   "name": "python",
   "nbconvert_exporter": "python",
   "pygments_lexer": "ipython3",
   "version": "3.12.4"
  }
 },
 "nbformat": 4,
 "nbformat_minor": 5
}
